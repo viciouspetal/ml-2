{
 "cells": [
  {
   "cell_type": "markdown",
   "metadata": {},
   "source": [
    "# Data loading"
   ]
  },
  {
   "cell_type": "code",
   "execution_count": 1,
   "metadata": {},
   "outputs": [
    {
     "name": "stderr",
     "output_type": "stream",
     "text": [
      "C:\\ProgramData\\Anaconda3\\lib\\site-packages\\sklearn\\cross_validation.py:41: DeprecationWarning: This module was deprecated in version 0.18 in favor of the model_selection module into which all the refactored classes and functions are moved. Also note that the interface of the new CV iterators are different from that of this module. This module will be removed in 0.20.\n",
      "  \"This module will be removed in 0.20.\", DeprecationWarning)\n"
     ]
    }
   ],
   "source": [
    "#  to present any diagrams inline with the rest of the notebook as opposed to in new browser window\n",
    "%matplotlib inline \n",
    "\n",
    "# importing necessary modules\n",
    "import pandas as pd\n",
    "import seaborn as sb\n",
    "import matplotlib.pyplot as plt\n",
    "import numpy as np\n",
    "from math import sqrt\n",
    "\n",
    "#scikit imports around different regression components\n",
    "from sklearn.tree import DecisionTreeRegressor\n",
    "from sklearn.metrics import mean_absolute_error, classification_report, mean_squared_error\n",
    "from sklearn import cross_validation\n",
    "from sklearn.model_selection import GridSearchCV, KFold, cross_val_predict, cross_val_score, train_test_split, StratifiedKFold,RandomizedSearchCV\n",
    "\n",
    "# regularized linear regression\n",
    "from sklearn.linear_model import Ridge, RidgeCV\n",
    "\n",
    "# ensemble imports\n",
    "from sklearn.ensemble import RandomForestRegressor"
   ]
  },
  {
   "cell_type": "code",
   "execution_count": 2,
   "metadata": {},
   "outputs": [],
   "source": [
    "# initializing necessry constants\n",
    "path_to_csv = \"data/abalone.csv\"\n",
    "default_figure_out_path = 'figs/'\n",
    "boxplot_fig_path = 'boxplots/'\n",
    "decision_tree_fig_path = 'decision_tree'\n",
    "default_figure_ext = '.png'\n",
    "columns = ['sex', 'length', 'diameter', 'height', 'whole_weight', 'shucked_weight','viscera_weight', 'shell_weight','rings']"
   ]
  },
  {
   "cell_type": "code",
   "execution_count": 3,
   "metadata": {},
   "outputs": [],
   "source": [
    "df = pd.read_csv(path_to_csv, names=columns, header=None)"
   ]
  },
  {
   "cell_type": "markdown",
   "metadata": {},
   "source": [
    "After loading of a dataset to verify that it was loaded correctly the dataframe object can be queried. \n",
    "The first thing to check is the size of the dataset, e.g. number of records and columns. Checking number of rows will elp determine if dataset is large enough to draw any conclusions from.\n",
    "\n",
    "Additonally, various statistics around minimum, maximum, mean and others can be checked. It also would verify that the dataset was loaded correctly"
   ]
  },
  {
   "cell_type": "code",
   "execution_count": 4,
   "metadata": {},
   "outputs": [
    {
     "data": {
      "text/plain": [
       "(4177, 9)"
      ]
     },
     "execution_count": 4,
     "metadata": {},
     "output_type": "execute_result"
    }
   ],
   "source": [
    "orig_shape = df.shape\n",
    "df.shape"
   ]
  },
  {
   "cell_type": "code",
   "execution_count": 5,
   "metadata": {},
   "outputs": [
    {
     "data": {
      "text/html": [
       "<div>\n",
       "<style scoped>\n",
       "    .dataframe tbody tr th:only-of-type {\n",
       "        vertical-align: middle;\n",
       "    }\n",
       "\n",
       "    .dataframe tbody tr th {\n",
       "        vertical-align: top;\n",
       "    }\n",
       "\n",
       "    .dataframe thead th {\n",
       "        text-align: right;\n",
       "    }\n",
       "</style>\n",
       "<table border=\"1\" class=\"dataframe\">\n",
       "  <thead>\n",
       "    <tr style=\"text-align: right;\">\n",
       "      <th></th>\n",
       "      <th>length</th>\n",
       "      <th>diameter</th>\n",
       "      <th>height</th>\n",
       "      <th>whole_weight</th>\n",
       "      <th>shucked_weight</th>\n",
       "      <th>viscera_weight</th>\n",
       "      <th>shell_weight</th>\n",
       "    </tr>\n",
       "  </thead>\n",
       "  <tbody>\n",
       "    <tr>\n",
       "      <th>count</th>\n",
       "      <td>4177.000000</td>\n",
       "      <td>4177.000000</td>\n",
       "      <td>4177.000000</td>\n",
       "      <td>4177.000000</td>\n",
       "      <td>4177.000000</td>\n",
       "      <td>4176.000000</td>\n",
       "      <td>4177.000000</td>\n",
       "    </tr>\n",
       "    <tr>\n",
       "      <th>mean</th>\n",
       "      <td>0.523992</td>\n",
       "      <td>0.407675</td>\n",
       "      <td>0.139516</td>\n",
       "      <td>0.828742</td>\n",
       "      <td>0.359367</td>\n",
       "      <td>0.180574</td>\n",
       "      <td>0.238831</td>\n",
       "    </tr>\n",
       "    <tr>\n",
       "      <th>std</th>\n",
       "      <td>0.120093</td>\n",
       "      <td>0.100082</td>\n",
       "      <td>0.041827</td>\n",
       "      <td>0.490389</td>\n",
       "      <td>0.221963</td>\n",
       "      <td>0.109620</td>\n",
       "      <td>0.139203</td>\n",
       "    </tr>\n",
       "    <tr>\n",
       "      <th>min</th>\n",
       "      <td>0.075000</td>\n",
       "      <td>-0.430000</td>\n",
       "      <td>0.000000</td>\n",
       "      <td>0.002000</td>\n",
       "      <td>0.001000</td>\n",
       "      <td>0.000500</td>\n",
       "      <td>0.001500</td>\n",
       "    </tr>\n",
       "    <tr>\n",
       "      <th>25%</th>\n",
       "      <td>0.450000</td>\n",
       "      <td>0.350000</td>\n",
       "      <td>0.115000</td>\n",
       "      <td>0.441500</td>\n",
       "      <td>0.186000</td>\n",
       "      <td>0.093375</td>\n",
       "      <td>0.130000</td>\n",
       "    </tr>\n",
       "    <tr>\n",
       "      <th>50%</th>\n",
       "      <td>0.545000</td>\n",
       "      <td>0.425000</td>\n",
       "      <td>0.140000</td>\n",
       "      <td>0.799500</td>\n",
       "      <td>0.336000</td>\n",
       "      <td>0.170750</td>\n",
       "      <td>0.234000</td>\n",
       "    </tr>\n",
       "    <tr>\n",
       "      <th>75%</th>\n",
       "      <td>0.615000</td>\n",
       "      <td>0.480000</td>\n",
       "      <td>0.165000</td>\n",
       "      <td>1.153000</td>\n",
       "      <td>0.502000</td>\n",
       "      <td>0.252625</td>\n",
       "      <td>0.329000</td>\n",
       "    </tr>\n",
       "    <tr>\n",
       "      <th>max</th>\n",
       "      <td>0.815000</td>\n",
       "      <td>0.650000</td>\n",
       "      <td>1.130000</td>\n",
       "      <td>2.825500</td>\n",
       "      <td>1.488000</td>\n",
       "      <td>0.760000</td>\n",
       "      <td>1.005000</td>\n",
       "    </tr>\n",
       "  </tbody>\n",
       "</table>\n",
       "</div>"
      ],
      "text/plain": [
       "            length     diameter       height  whole_weight  shucked_weight  \\\n",
       "count  4177.000000  4177.000000  4177.000000   4177.000000     4177.000000   \n",
       "mean      0.523992     0.407675     0.139516      0.828742        0.359367   \n",
       "std       0.120093     0.100082     0.041827      0.490389        0.221963   \n",
       "min       0.075000    -0.430000     0.000000      0.002000        0.001000   \n",
       "25%       0.450000     0.350000     0.115000      0.441500        0.186000   \n",
       "50%       0.545000     0.425000     0.140000      0.799500        0.336000   \n",
       "75%       0.615000     0.480000     0.165000      1.153000        0.502000   \n",
       "max       0.815000     0.650000     1.130000      2.825500        1.488000   \n",
       "\n",
       "       viscera_weight  shell_weight  \n",
       "count     4176.000000   4177.000000  \n",
       "mean         0.180574      0.238831  \n",
       "std          0.109620      0.139203  \n",
       "min          0.000500      0.001500  \n",
       "25%          0.093375      0.130000  \n",
       "50%          0.170750      0.234000  \n",
       "75%          0.252625      0.329000  \n",
       "max          0.760000      1.005000  "
      ]
     },
     "execution_count": 5,
     "metadata": {},
     "output_type": "execute_result"
    }
   ],
   "source": [
    "df.describe()"
   ]
  },
  {
   "cell_type": "markdown",
   "metadata": {},
   "source": [
    "From the table above it can straight away be observed that some values in the dataset will need to be cleaned - no measurement of a live abalone speciment should be negative or equal to 0."
   ]
  },
  {
   "cell_type": "markdown",
   "metadata": {},
   "source": [
    "# Data cleaning\n",
    "## Checking for empty nad invalid records\n",
    "The very first thing that needs to be performed on any dataset, before any analysis should be performed is cleaning the data. The rationale behind it is that missing records can and will skew any computations done on the dataset.\n",
    "The very first check is to make sure tha all data imported is numeric, with exception of `sex` column"
   ]
  },
  {
   "cell_type": "code",
   "execution_count": 6,
   "metadata": {},
   "outputs": [
    {
     "data": {
      "text/plain": [
       "sex                object\n",
       "length            float64\n",
       "diameter          float64\n",
       "height            float64\n",
       "whole_weight      float64\n",
       "shucked_weight    float64\n",
       "viscera_weight    float64\n",
       "shell_weight      float64\n",
       "rings              object\n",
       "dtype: object"
      ]
     },
     "execution_count": 6,
     "metadata": {},
     "output_type": "execute_result"
    }
   ],
   "source": [
    "df.dtypes"
   ]
  },
  {
   "cell_type": "markdown",
   "metadata": {},
   "source": [
    "It can be observed that unexpetedly `rings` column is represented by an object type, which would only occur if some values for that column are not numeric, but instead a `string` or `null`."
   ]
  },
  {
   "cell_type": "code",
   "execution_count": 7,
   "metadata": {},
   "outputs": [
    {
     "data": {
      "text/plain": [
       "sex                object\n",
       "length            float64\n",
       "diameter          float64\n",
       "height            float64\n",
       "whole_weight      float64\n",
       "shucked_weight    float64\n",
       "viscera_weight    float64\n",
       "shell_weight      float64\n",
       "rings             float64\n",
       "dtype: object"
      ]
     },
     "execution_count": 7,
     "metadata": {},
     "output_type": "execute_result"
    }
   ],
   "source": [
    "# converting rings to numbers. Any text will turn into NaN. `coerce` option is used to suppress any conversion errors\n",
    "df['rings'] = pd.to_numeric(df['rings'], errors='coerce')\n",
    "df.dtypes"
   ]
  },
  {
   "cell_type": "code",
   "execution_count": 8,
   "metadata": {},
   "outputs": [],
   "source": [
    "# checking that shape of the dataset didn't change as part of the conversion operation\n",
    "def check_row_count(row_count_to_be_checked):\n",
    "    if orig_shape[0] == row_count_to_be_checked:\n",
    "        print('Row count did not change')\n",
    "    else:\n",
    "        print('Row count changed')"
   ]
  },
  {
   "cell_type": "code",
   "execution_count": 9,
   "metadata": {},
   "outputs": [
    {
     "name": "stdout",
     "output_type": "stream",
     "text": [
      "Row count did not change\n"
     ]
    }
   ],
   "source": [
    "check_row_count(df.shape[0])"
   ]
  },
  {
   "cell_type": "code",
   "execution_count": 10,
   "metadata": {},
   "outputs": [
    {
     "data": {
      "text/html": [
       "<div>\n",
       "<style scoped>\n",
       "    .dataframe tbody tr th:only-of-type {\n",
       "        vertical-align: middle;\n",
       "    }\n",
       "\n",
       "    .dataframe tbody tr th {\n",
       "        vertical-align: top;\n",
       "    }\n",
       "\n",
       "    .dataframe thead th {\n",
       "        text-align: right;\n",
       "    }\n",
       "</style>\n",
       "<table border=\"1\" class=\"dataframe\">\n",
       "  <thead>\n",
       "    <tr style=\"text-align: right;\">\n",
       "      <th></th>\n",
       "      <th>sex</th>\n",
       "      <th>length</th>\n",
       "      <th>diameter</th>\n",
       "      <th>height</th>\n",
       "      <th>whole_weight</th>\n",
       "      <th>shucked_weight</th>\n",
       "      <th>viscera_weight</th>\n",
       "      <th>shell_weight</th>\n",
       "      <th>rings</th>\n",
       "    </tr>\n",
       "  </thead>\n",
       "  <tbody>\n",
       "    <tr>\n",
       "      <th>878</th>\n",
       "      <td>F</td>\n",
       "      <td>0.635</td>\n",
       "      <td>0.485</td>\n",
       "      <td>0.165</td>\n",
       "      <td>1.2945</td>\n",
       "      <td>0.6680</td>\n",
       "      <td>NaN</td>\n",
       "      <td>0.2715</td>\n",
       "      <td>9.0</td>\n",
       "    </tr>\n",
       "    <tr>\n",
       "      <th>1888</th>\n",
       "      <td>F</td>\n",
       "      <td>0.565</td>\n",
       "      <td>0.445</td>\n",
       "      <td>0.125</td>\n",
       "      <td>0.8305</td>\n",
       "      <td>0.3135</td>\n",
       "      <td>0.1785</td>\n",
       "      <td>0.2300</td>\n",
       "      <td>NaN</td>\n",
       "    </tr>\n",
       "    <tr>\n",
       "      <th>3093</th>\n",
       "      <td>NaN</td>\n",
       "      <td>0.520</td>\n",
       "      <td>0.430</td>\n",
       "      <td>0.150</td>\n",
       "      <td>0.7280</td>\n",
       "      <td>0.3020</td>\n",
       "      <td>0.1575</td>\n",
       "      <td>0.2350</td>\n",
       "      <td>11.0</td>\n",
       "    </tr>\n",
       "    <tr>\n",
       "      <th>3466</th>\n",
       "      <td>M</td>\n",
       "      <td>0.640</td>\n",
       "      <td>0.500</td>\n",
       "      <td>0.170</td>\n",
       "      <td>1.4545</td>\n",
       "      <td>0.6420</td>\n",
       "      <td>0.3575</td>\n",
       "      <td>0.3540</td>\n",
       "      <td>NaN</td>\n",
       "    </tr>\n",
       "  </tbody>\n",
       "</table>\n",
       "</div>"
      ],
      "text/plain": [
       "      sex  length  diameter  height  whole_weight  shucked_weight  \\\n",
       "878     F   0.635     0.485   0.165        1.2945          0.6680   \n",
       "1888    F   0.565     0.445   0.125        0.8305          0.3135   \n",
       "3093  NaN   0.520     0.430   0.150        0.7280          0.3020   \n",
       "3466    M   0.640     0.500   0.170        1.4545          0.6420   \n",
       "\n",
       "      viscera_weight  shell_weight  rings  \n",
       "878              NaN        0.2715    9.0  \n",
       "1888          0.1785        0.2300    NaN  \n",
       "3093          0.1575        0.2350   11.0  \n",
       "3466          0.3575        0.3540    NaN  "
      ]
     },
     "execution_count": 10,
     "metadata": {},
     "output_type": "execute_result"
    }
   ],
   "source": [
    "nan_error = df.isnull().any(axis=1)\n",
    "df[nan_error]"
   ]
  },
  {
   "cell_type": "markdown",
   "metadata": {},
   "source": [
    "From the data above we can see that some records are missing data:\n",
    " - Row 878 is missing `viscera weight` property\n",
    " - Row 1888 is missing `rings` value\n",
    " - Row 3093 doesn't have value for `sex` specified\n",
    "\n",
    "## Checking dataset for errorenous data\n",
    "Before re remove any data we shoul analyze if there are any errors in the dataset. It should e done before removal of any data as if the number or errors in data is significant in may become necessary to substitute wrong data and at the same time it may be possible to fill the data gaps as well.\n",
    "### Values below or equal to 0\n",
    "For abalone, as a living organism, it doesn't make sense for any of its attributes to be below or equal to zero."
   ]
  },
  {
   "cell_type": "code",
   "execution_count": 11,
   "metadata": {},
   "outputs": [
    {
     "data": {
      "text/plain": [
       "sex               4176\n",
       "length               0\n",
       "diameter             1\n",
       "height               2\n",
       "whole_weight         0\n",
       "shucked_weight       0\n",
       "viscera_weight       0\n",
       "shell_weight         0\n",
       "rings                0\n",
       "dtype: int64"
      ]
     },
     "execution_count": 11,
     "metadata": {},
     "output_type": "execute_result"
    }
   ],
   "source": [
    "below_or_zero=df[df <= 0.0 ].count()\n",
    "below_or_zero"
   ]
  },
  {
   "cell_type": "markdown",
   "metadata": {},
   "source": [
    "We're not concerned with `sex` column being reported as it's not a numeric data. For the rings data we need to check it with `integer` type applied instead of a floating point one.\n",
    "\n",
    "From the description and computation we see that there are a min of 0 for height and a negative value for diameter which in case of a living organism like abalone isn't valid. We need to track down which row exactly contain error data and remove them."
   ]
  },
  {
   "cell_type": "code",
   "execution_count": 12,
   "metadata": {},
   "outputs": [
    {
     "data": {
      "text/html": [
       "<div>\n",
       "<style scoped>\n",
       "    .dataframe tbody tr th:only-of-type {\n",
       "        vertical-align: middle;\n",
       "    }\n",
       "\n",
       "    .dataframe tbody tr th {\n",
       "        vertical-align: top;\n",
       "    }\n",
       "\n",
       "    .dataframe thead th {\n",
       "        text-align: right;\n",
       "    }\n",
       "</style>\n",
       "<table border=\"1\" class=\"dataframe\">\n",
       "  <thead>\n",
       "    <tr style=\"text-align: right;\">\n",
       "      <th></th>\n",
       "      <th>sex</th>\n",
       "      <th>length</th>\n",
       "      <th>diameter</th>\n",
       "      <th>height</th>\n",
       "      <th>whole_weight</th>\n",
       "      <th>shucked_weight</th>\n",
       "      <th>viscera_weight</th>\n",
       "      <th>shell_weight</th>\n",
       "      <th>rings</th>\n",
       "    </tr>\n",
       "  </thead>\n",
       "  <tbody>\n",
       "    <tr>\n",
       "      <th>2758</th>\n",
       "      <td>M</td>\n",
       "      <td>0.535</td>\n",
       "      <td>-0.43</td>\n",
       "      <td>0.155</td>\n",
       "      <td>0.7845</td>\n",
       "      <td>0.3285</td>\n",
       "      <td>0.169</td>\n",
       "      <td>0.245</td>\n",
       "      <td>10.0</td>\n",
       "    </tr>\n",
       "  </tbody>\n",
       "</table>\n",
       "</div>"
      ],
      "text/plain": [
       "     sex  length  diameter  height  whole_weight  shucked_weight  \\\n",
       "2758   M   0.535     -0.43   0.155        0.7845          0.3285   \n",
       "\n",
       "      viscera_weight  shell_weight  rings  \n",
       "2758           0.169         0.245   10.0  "
      ]
     },
     "execution_count": 12,
     "metadata": {},
     "output_type": "execute_result"
    }
   ],
   "source": [
    "error_diameter=df['diameter'] <= 0.0\n",
    "error_height = df['height'] <= 0.0\n",
    "df[error_diameter]"
   ]
  },
  {
   "cell_type": "code",
   "execution_count": 13,
   "metadata": {},
   "outputs": [
    {
     "data": {
      "text/html": [
       "<div>\n",
       "<style scoped>\n",
       "    .dataframe tbody tr th:only-of-type {\n",
       "        vertical-align: middle;\n",
       "    }\n",
       "\n",
       "    .dataframe tbody tr th {\n",
       "        vertical-align: top;\n",
       "    }\n",
       "\n",
       "    .dataframe thead th {\n",
       "        text-align: right;\n",
       "    }\n",
       "</style>\n",
       "<table border=\"1\" class=\"dataframe\">\n",
       "  <thead>\n",
       "    <tr style=\"text-align: right;\">\n",
       "      <th></th>\n",
       "      <th>sex</th>\n",
       "      <th>length</th>\n",
       "      <th>diameter</th>\n",
       "      <th>height</th>\n",
       "      <th>whole_weight</th>\n",
       "      <th>shucked_weight</th>\n",
       "      <th>viscera_weight</th>\n",
       "      <th>shell_weight</th>\n",
       "      <th>rings</th>\n",
       "    </tr>\n",
       "  </thead>\n",
       "  <tbody>\n",
       "    <tr>\n",
       "      <th>1257</th>\n",
       "      <td>I</td>\n",
       "      <td>0.430</td>\n",
       "      <td>0.34</td>\n",
       "      <td>0.0</td>\n",
       "      <td>0.428</td>\n",
       "      <td>0.2065</td>\n",
       "      <td>0.0860</td>\n",
       "      <td>0.1150</td>\n",
       "      <td>8.0</td>\n",
       "    </tr>\n",
       "    <tr>\n",
       "      <th>3996</th>\n",
       "      <td>I</td>\n",
       "      <td>0.315</td>\n",
       "      <td>0.23</td>\n",
       "      <td>0.0</td>\n",
       "      <td>0.134</td>\n",
       "      <td>0.0575</td>\n",
       "      <td>0.0285</td>\n",
       "      <td>0.3505</td>\n",
       "      <td>6.0</td>\n",
       "    </tr>\n",
       "  </tbody>\n",
       "</table>\n",
       "</div>"
      ],
      "text/plain": [
       "     sex  length  diameter  height  whole_weight  shucked_weight  \\\n",
       "1257   I   0.430      0.34     0.0         0.428          0.2065   \n",
       "3996   I   0.315      0.23     0.0         0.134          0.0575   \n",
       "\n",
       "      viscera_weight  shell_weight  rings  \n",
       "1257          0.0860        0.1150    8.0  \n",
       "3996          0.0285        0.3505    6.0  "
      ]
     },
     "execution_count": 13,
     "metadata": {},
     "output_type": "execute_result"
    }
   ],
   "source": [
    "df[error_height]"
   ]
  },
  {
   "cell_type": "markdown",
   "metadata": {},
   "source": [
    "## Analyzing data for domain errors\n",
    "Endemic to abalone itself it is invalid for any specimen to have:\n",
    " - higher weight when shucked (stripped of its shell) than whole weight\n",
    " - higher viscera weight than whole weight\n",
    " - higher shell weight than whole weight\n",
    "\n",
    "We can do 2 things to find the errors:\n",
    " - computation method\n",
    " - scatter matrix dedicated to specific parameters listed above\n",
    "\n",
    "While it is possible to identify errors using visual method by narrowing down the graph field to precise location of the errorneous data it is much faster to compute it."
   ]
  },
  {
   "cell_type": "code",
   "execution_count": 14,
   "metadata": {},
   "outputs": [
    {
     "data": {
      "text/html": [
       "<div>\n",
       "<style scoped>\n",
       "    .dataframe tbody tr th:only-of-type {\n",
       "        vertical-align: middle;\n",
       "    }\n",
       "\n",
       "    .dataframe tbody tr th {\n",
       "        vertical-align: top;\n",
       "    }\n",
       "\n",
       "    .dataframe thead th {\n",
       "        text-align: right;\n",
       "    }\n",
       "</style>\n",
       "<table border=\"1\" class=\"dataframe\">\n",
       "  <thead>\n",
       "    <tr style=\"text-align: right;\">\n",
       "      <th></th>\n",
       "      <th>sex</th>\n",
       "      <th>length</th>\n",
       "      <th>diameter</th>\n",
       "      <th>height</th>\n",
       "      <th>whole_weight</th>\n",
       "      <th>shucked_weight</th>\n",
       "      <th>viscera_weight</th>\n",
       "      <th>shell_weight</th>\n",
       "      <th>rings</th>\n",
       "    </tr>\n",
       "  </thead>\n",
       "  <tbody>\n",
       "    <tr>\n",
       "      <th>1216</th>\n",
       "      <td>I</td>\n",
       "      <td>0.310</td>\n",
       "      <td>0.225</td>\n",
       "      <td>0.070</td>\n",
       "      <td>0.1055</td>\n",
       "      <td>0.4350</td>\n",
       "      <td>0.0150</td>\n",
       "      <td>0.0400</td>\n",
       "      <td>5.0</td>\n",
       "    </tr>\n",
       "    <tr>\n",
       "      <th>2627</th>\n",
       "      <td>I</td>\n",
       "      <td>0.275</td>\n",
       "      <td>0.205</td>\n",
       "      <td>0.070</td>\n",
       "      <td>0.1055</td>\n",
       "      <td>0.4950</td>\n",
       "      <td>0.0190</td>\n",
       "      <td>0.0315</td>\n",
       "      <td>5.0</td>\n",
       "    </tr>\n",
       "    <tr>\n",
       "      <th>2641</th>\n",
       "      <td>I</td>\n",
       "      <td>0.475</td>\n",
       "      <td>0.365</td>\n",
       "      <td>0.100</td>\n",
       "      <td>0.1315</td>\n",
       "      <td>0.2025</td>\n",
       "      <td>0.0875</td>\n",
       "      <td>0.1230</td>\n",
       "      <td>7.0</td>\n",
       "    </tr>\n",
       "    <tr>\n",
       "      <th>3086</th>\n",
       "      <td>I</td>\n",
       "      <td>0.355</td>\n",
       "      <td>0.270</td>\n",
       "      <td>0.075</td>\n",
       "      <td>0.2040</td>\n",
       "      <td>0.3045</td>\n",
       "      <td>0.0460</td>\n",
       "      <td>0.0595</td>\n",
       "      <td>7.0</td>\n",
       "    </tr>\n",
       "  </tbody>\n",
       "</table>\n",
       "</div>"
      ],
      "text/plain": [
       "     sex  length  diameter  height  whole_weight  shucked_weight  \\\n",
       "1216   I   0.310     0.225   0.070        0.1055          0.4350   \n",
       "2627   I   0.275     0.205   0.070        0.1055          0.4950   \n",
       "2641   I   0.475     0.365   0.100        0.1315          0.2025   \n",
       "3086   I   0.355     0.270   0.075        0.2040          0.3045   \n",
       "\n",
       "      viscera_weight  shell_weight  rings  \n",
       "1216          0.0150        0.0400    5.0  \n",
       "2627          0.0190        0.0315    5.0  \n",
       "2641          0.0875        0.1230    7.0  \n",
       "3086          0.0460        0.0595    7.0  "
      ]
     },
     "execution_count": 14,
     "metadata": {},
     "output_type": "execute_result"
    }
   ],
   "source": [
    "shucked_error =df['shucked_weight'] > df['whole_weight']\n",
    "df[shucked_error]"
   ]
  },
  {
   "cell_type": "code",
   "execution_count": 15,
   "metadata": {},
   "outputs": [
    {
     "data": {
      "text/html": [
       "<div>\n",
       "<style scoped>\n",
       "    .dataframe tbody tr th:only-of-type {\n",
       "        vertical-align: middle;\n",
       "    }\n",
       "\n",
       "    .dataframe tbody tr th {\n",
       "        vertical-align: top;\n",
       "    }\n",
       "\n",
       "    .dataframe thead th {\n",
       "        text-align: right;\n",
       "    }\n",
       "</style>\n",
       "<table border=\"1\" class=\"dataframe\">\n",
       "  <thead>\n",
       "    <tr style=\"text-align: right;\">\n",
       "      <th></th>\n",
       "      <th>sex</th>\n",
       "      <th>length</th>\n",
       "      <th>diameter</th>\n",
       "      <th>height</th>\n",
       "      <th>whole_weight</th>\n",
       "      <th>shucked_weight</th>\n",
       "      <th>viscera_weight</th>\n",
       "      <th>shell_weight</th>\n",
       "      <th>rings</th>\n",
       "    </tr>\n",
       "  </thead>\n",
       "  <tbody>\n",
       "  </tbody>\n",
       "</table>\n",
       "</div>"
      ],
      "text/plain": [
       "Empty DataFrame\n",
       "Columns: [sex, length, diameter, height, whole_weight, shucked_weight, viscera_weight, shell_weight, rings]\n",
       "Index: []"
      ]
     },
     "execution_count": 15,
     "metadata": {},
     "output_type": "execute_result"
    }
   ],
   "source": [
    "df[df['viscera_weight'] > df['whole_weight']]"
   ]
  },
  {
   "cell_type": "code",
   "execution_count": 16,
   "metadata": {},
   "outputs": [
    {
     "data": {
      "text/html": [
       "<div>\n",
       "<style scoped>\n",
       "    .dataframe tbody tr th:only-of-type {\n",
       "        vertical-align: middle;\n",
       "    }\n",
       "\n",
       "    .dataframe tbody tr th {\n",
       "        vertical-align: top;\n",
       "    }\n",
       "\n",
       "    .dataframe thead th {\n",
       "        text-align: right;\n",
       "    }\n",
       "</style>\n",
       "<table border=\"1\" class=\"dataframe\">\n",
       "  <thead>\n",
       "    <tr style=\"text-align: right;\">\n",
       "      <th></th>\n",
       "      <th>sex</th>\n",
       "      <th>length</th>\n",
       "      <th>diameter</th>\n",
       "      <th>height</th>\n",
       "      <th>whole_weight</th>\n",
       "      <th>shucked_weight</th>\n",
       "      <th>viscera_weight</th>\n",
       "      <th>shell_weight</th>\n",
       "      <th>rings</th>\n",
       "    </tr>\n",
       "  </thead>\n",
       "  <tbody>\n",
       "    <tr>\n",
       "      <th>3996</th>\n",
       "      <td>I</td>\n",
       "      <td>0.315</td>\n",
       "      <td>0.23</td>\n",
       "      <td>0.0</td>\n",
       "      <td>0.134</td>\n",
       "      <td>0.0575</td>\n",
       "      <td>0.0285</td>\n",
       "      <td>0.3505</td>\n",
       "      <td>6.0</td>\n",
       "    </tr>\n",
       "  </tbody>\n",
       "</table>\n",
       "</div>"
      ],
      "text/plain": [
       "     sex  length  diameter  height  whole_weight  shucked_weight  \\\n",
       "3996   I   0.315      0.23     0.0         0.134          0.0575   \n",
       "\n",
       "      viscera_weight  shell_weight  rings  \n",
       "3996          0.0285        0.3505    6.0  "
      ]
     },
     "execution_count": 16,
     "metadata": {},
     "output_type": "execute_result"
    }
   ],
   "source": [
    "shell_error = df['shell_weight'] > df['whole_weight']\n",
    "df[shell_error]"
   ]
  },
  {
   "cell_type": "markdown",
   "metadata": {},
   "source": [
    "## Summary of errorenous data\n",
    "We have 4 rows with non-numerical values:\n",
    " - 878\n",
    " - 1888\n",
    " - 3093\n",
    " - 3466\n",
    " \n",
    "7 rows with data that cannot be correct for domain reasons:\n",
    " - 4 where shucked weight is higher than whole weight\n",
    "   - 1216\n",
    "   - 2627\n",
    "   - 2641\n",
    "   - 3086\n",
    " - 1 row with negative value for diameter\n",
    "   - 2758\n",
    " - 2 rows with 0 value for height\n",
    "   - 1257\n",
    "   - 3996\n",
    "\n",
    "Row 3996 has been flagged by 2 checks as one containing impossible values: height and shell weight higher than whole weight, however, is only contributes towards row-error count once.\n",
    " \n",
    "In summary we have 11 rows that either have to have some of the values substituted or removed.\n",
    "\n",
    "From checking the tail of the dataset in previous section we know that the dataset contains 4176 rows. \n",
    "\n",
    "As such 10 rows with missing data comprises less than 0.26% of the dataset and removing such a small amount or errorenous data should not affect our analysis significantly. \n",
    "Had the number been more significant the missing data would have had to been substituted.\n",
    "\n",
    "# Removing erroneous data"
   ]
  },
  {
   "cell_type": "code",
   "execution_count": 17,
   "metadata": {},
   "outputs": [
    {
     "data": {
      "text/html": [
       "<div>\n",
       "<style scoped>\n",
       "    .dataframe tbody tr th:only-of-type {\n",
       "        vertical-align: middle;\n",
       "    }\n",
       "\n",
       "    .dataframe tbody tr th {\n",
       "        vertical-align: top;\n",
       "    }\n",
       "\n",
       "    .dataframe thead th {\n",
       "        text-align: right;\n",
       "    }\n",
       "</style>\n",
       "<table border=\"1\" class=\"dataframe\">\n",
       "  <thead>\n",
       "    <tr style=\"text-align: right;\">\n",
       "      <th></th>\n",
       "      <th>sex</th>\n",
       "      <th>length</th>\n",
       "      <th>diameter</th>\n",
       "      <th>height</th>\n",
       "      <th>whole_weight</th>\n",
       "      <th>shucked_weight</th>\n",
       "      <th>viscera_weight</th>\n",
       "      <th>shell_weight</th>\n",
       "      <th>rings</th>\n",
       "    </tr>\n",
       "  </thead>\n",
       "  <tbody>\n",
       "  </tbody>\n",
       "</table>\n",
       "</div>"
      ],
      "text/plain": [
       "Empty DataFrame\n",
       "Columns: [sex, length, diameter, height, whole_weight, shucked_weight, viscera_weight, shell_weight, rings]\n",
       "Index: []"
      ]
     },
     "execution_count": 17,
     "metadata": {},
     "output_type": "execute_result"
    }
   ],
   "source": [
    "# deleting shucked weight > whole weight\n",
    "df.drop(df.index[(shucked_error) | (error_diameter) | (error_height) | (nan_error)], inplace=True)\n",
    "\n",
    "#verifying shucked > whole that records were dropped\n",
    "df[df['shucked_weight'] > df['whole_weight']]"
   ]
  },
  {
   "cell_type": "code",
   "execution_count": 18,
   "metadata": {},
   "outputs": [
    {
     "data": {
      "text/html": [
       "<div>\n",
       "<style scoped>\n",
       "    .dataframe tbody tr th:only-of-type {\n",
       "        vertical-align: middle;\n",
       "    }\n",
       "\n",
       "    .dataframe tbody tr th {\n",
       "        vertical-align: top;\n",
       "    }\n",
       "\n",
       "    .dataframe thead th {\n",
       "        text-align: right;\n",
       "    }\n",
       "</style>\n",
       "<table border=\"1\" class=\"dataframe\">\n",
       "  <thead>\n",
       "    <tr style=\"text-align: right;\">\n",
       "      <th></th>\n",
       "      <th>sex</th>\n",
       "      <th>length</th>\n",
       "      <th>diameter</th>\n",
       "      <th>height</th>\n",
       "      <th>whole_weight</th>\n",
       "      <th>shucked_weight</th>\n",
       "      <th>viscera_weight</th>\n",
       "      <th>shell_weight</th>\n",
       "      <th>rings</th>\n",
       "    </tr>\n",
       "  </thead>\n",
       "  <tbody>\n",
       "  </tbody>\n",
       "</table>\n",
       "</div>"
      ],
      "text/plain": [
       "Empty DataFrame\n",
       "Columns: [sex, length, diameter, height, whole_weight, shucked_weight, viscera_weight, shell_weight, rings]\n",
       "Index: []"
      ]
     },
     "execution_count": 18,
     "metadata": {},
     "output_type": "execute_result"
    }
   ],
   "source": [
    "# verifying NaN errors were deleted\n",
    "df[df.isnull().any(axis=1)]"
   ]
  },
  {
   "cell_type": "code",
   "execution_count": 19,
   "metadata": {},
   "outputs": [
    {
     "data": {
      "text/html": [
       "<div>\n",
       "<style scoped>\n",
       "    .dataframe tbody tr th:only-of-type {\n",
       "        vertical-align: middle;\n",
       "    }\n",
       "\n",
       "    .dataframe tbody tr th {\n",
       "        vertical-align: top;\n",
       "    }\n",
       "\n",
       "    .dataframe thead th {\n",
       "        text-align: right;\n",
       "    }\n",
       "</style>\n",
       "<table border=\"1\" class=\"dataframe\">\n",
       "  <thead>\n",
       "    <tr style=\"text-align: right;\">\n",
       "      <th></th>\n",
       "      <th>sex</th>\n",
       "      <th>length</th>\n",
       "      <th>diameter</th>\n",
       "      <th>height</th>\n",
       "      <th>whole_weight</th>\n",
       "      <th>shucked_weight</th>\n",
       "      <th>viscera_weight</th>\n",
       "      <th>shell_weight</th>\n",
       "      <th>rings</th>\n",
       "    </tr>\n",
       "  </thead>\n",
       "  <tbody>\n",
       "  </tbody>\n",
       "</table>\n",
       "</div>"
      ],
      "text/plain": [
       "Empty DataFrame\n",
       "Columns: [sex, length, diameter, height, whole_weight, shucked_weight, viscera_weight, shell_weight, rings]\n",
       "Index: []"
      ]
     },
     "execution_count": 19,
     "metadata": {},
     "output_type": "execute_result"
    }
   ],
   "source": [
    "#verifying diameter < 0 records were dropped\n",
    "df[df['diameter'] <= 0.0]"
   ]
  },
  {
   "cell_type": "code",
   "execution_count": 20,
   "metadata": {},
   "outputs": [
    {
     "data": {
      "text/html": [
       "<div>\n",
       "<style scoped>\n",
       "    .dataframe tbody tr th:only-of-type {\n",
       "        vertical-align: middle;\n",
       "    }\n",
       "\n",
       "    .dataframe tbody tr th {\n",
       "        vertical-align: top;\n",
       "    }\n",
       "\n",
       "    .dataframe thead th {\n",
       "        text-align: right;\n",
       "    }\n",
       "</style>\n",
       "<table border=\"1\" class=\"dataframe\">\n",
       "  <thead>\n",
       "    <tr style=\"text-align: right;\">\n",
       "      <th></th>\n",
       "      <th>sex</th>\n",
       "      <th>length</th>\n",
       "      <th>diameter</th>\n",
       "      <th>height</th>\n",
       "      <th>whole_weight</th>\n",
       "      <th>shucked_weight</th>\n",
       "      <th>viscera_weight</th>\n",
       "      <th>shell_weight</th>\n",
       "      <th>rings</th>\n",
       "    </tr>\n",
       "  </thead>\n",
       "  <tbody>\n",
       "  </tbody>\n",
       "</table>\n",
       "</div>"
      ],
      "text/plain": [
       "Empty DataFrame\n",
       "Columns: [sex, length, diameter, height, whole_weight, shucked_weight, viscera_weight, shell_weight, rings]\n",
       "Index: []"
      ]
     },
     "execution_count": 20,
     "metadata": {},
     "output_type": "execute_result"
    }
   ],
   "source": [
    "# verifying height <= 0 was dropped\n",
    "df[df['height'] <= 0.0]"
   ]
  },
  {
   "cell_type": "markdown",
   "metadata": {},
   "source": [
    "# Indentifying outliers\n",
    "## Box Plots"
   ]
  },
  {
   "cell_type": "code",
   "execution_count": 49,
   "metadata": {},
   "outputs": [],
   "source": [
    "def set_16x16_figure():\n",
    "    sb.set(rc={'figure.figsize':(16,16)})\n",
    "def set_11x8_figure():\n",
    "    sb.set(rc={'figure.figsize':(11,8)})\n",
    "def set_7x5_figure():\n",
    "    sb.set(rc={'figure.figsize':(7,5)})\n",
    "def set_graph_size(size_enumerator):\n",
    "    if size_enumerator == 's':\n",
    "        set_7x5_figure()\n",
    "    elif size_enumerator == 'm':\n",
    "        set_11x8_figure()\n",
    "    elif size_enumerator == 'l':\n",
    "        set_16x16_figure()\n",
    "    elif size_enumerator == 'mini':\n",
    "        sb.set(rc={'figure.figsize':(6,4)})\n",
    "\n",
    "def get_boxplot_path():\n",
    "    return default_figure_out_path + boxplot_fig_path\n",
    "\n",
    "def save_boxplot(graph_title):\n",
    "    plt.savefig(get_boxplot_path()+graph_title+default_figure_ext, bbox_inches='tight')\n",
    "\n",
    "def save_graph(graph_title):\n",
    "    plt.savefig(default_figure_out_path + graph_title + default_figure_ext, bbox_inches='tight')\n",
    "    \n",
    "def save_tree_graph(graph_title, isErrorDist=False):\n",
    "    fig_path = default_figure_out_path + decision_tree_fig_path + '/'\n",
    "    \n",
    "    if isErrorDist is True:\n",
    "       fig_path = default_figure_out_path + decision_tree_fig_path + '_error_dist/'\n",
    "    \n",
    "    plt.savefig(fig_path+graph_title+default_figure_ext, bbox_inches='tight')"
   ]
  },
  {
   "cell_type": "code",
   "execution_count": 22,
   "metadata": {},
   "outputs": [],
   "source": [
    "def calc_quartiles(column):\n",
    "    q1 = df[column].quantile(0.25)\n",
    "    q3 = df[column].quantile(0.75)\n",
    "    iqr = q3 - q1\n",
    "    lw = q1 - 1.5 * iqr\n",
    "    uw = q3 + 1.5 * iqr\n",
    "    return q1, q3, iqr, lw, uw\n",
    "def format_dec(dec):\n",
    "    return format(dec, '2.4')"
   ]
  },
  {
   "cell_type": "code",
   "execution_count": 23,
   "metadata": {},
   "outputs": [
    {
     "data": {
      "image/png": "[encoded data removed]",
      "text/plain": [
       "<matplotlib.figure.Figure at 0xb68e3c8>"
      ]
     },
     "metadata": {},
     "output_type": "display_data"
    }
   ],
   "source": [
    "set_graph_size('l')\n",
    "df_ringless=df.drop('rings',  axis='columns')\n",
    "set_graph_size('l')\n",
    "ax=sb.boxplot(data=df_ringless)\n",
    "ax.set(xlabel='Attributes', ylabel='Scores', title=\"Box Plot For Multiple Features\")\n",
    "save_boxplot('boxplot_all_features_but_rings')"
   ]
  },
  {
   "cell_type": "code",
   "execution_count": 24,
   "metadata": {},
   "outputs": [
    {
     "data": {
      "image/png": "[encoded data removed]",
      "text/plain": [
       "<matplotlib.figure.Figure at 0xb68eef0>"
      ]
     },
     "metadata": {},
     "output_type": "display_data"
    }
   ],
   "source": [
    "set_graph_size('mini')\n",
    "ax=sb.boxplot(data=df['rings'])\n",
    "ax.set(xlabel='Rings', ylabel='Rings Count', title=\"Box Plot For Rings Feature\")\n",
    "save_boxplot('boxplot_rings')"
   ]
  },
  {
   "cell_type": "markdown",
   "metadata": {},
   "source": [
    "From the feature boxplots above it can be observed that quite a number of outlier values are present in the dataset. Before a decision can be made how to address these values a finla count of outlier observations should be computed. \n",
    "\n",
    "Alternatively, one could make a decision early and chose a regression method that is not so affected by the presence of outliers, such as decision tree regression, as opposed to linear regression which is highly susceptible."
   ]
  },
  {
   "cell_type": "code",
   "execution_count": 25,
   "metadata": {},
   "outputs": [
    {
     "name": "stdout",
     "output_type": "stream",
     "text": [
      "Ring outlier values consist of 6.673% of the entire dataset\n"
     ]
    }
   ],
   "source": [
    "q1, q3, iqr, lw, uw = calc_quartiles('rings')\n",
    "outliers = (df['rings'] < lw) | (df['rings'] > uw)\n",
    "non_outliers_count = df['rings'][~outliers].count()\n",
    "outlier_count = len(df['rings'])-df['rings'][~outliers].count()\n",
    "print('Ring outlier values consist of {0}% of the entire dataset'.format(format_dec((outlier_count/len(df['rings']))*100)))"
   ]
  },
  {
   "cell_type": "markdown",
   "metadata": {},
   "source": [
    "Given that outliers for the `rings` column alone consisted of over 6.5% of the complete dataset it was decided against proceeding with any linear regression modelling due to its susceptability to outlier values - either removing or imputing te values would have had an effect on the overall prediction capability.\n",
    "\n",
    "Instead efforts were focused around the decission tree regression models.\n",
    "\n",
    "# Decision Tree Regression\n",
    "## Dummy regressor"
   ]
  },
  {
   "cell_type": "markdown",
   "metadata": {},
   "source": [
    "Before proceeding with any modelling `sex` column, which has been established to contain text values, needs to be encoded."
   ]
  },
  {
   "cell_type": "code",
   "execution_count": 26,
   "metadata": {},
   "outputs": [
    {
     "data": {
      "text/html": [
       "<div>\n",
       "<style scoped>\n",
       "    .dataframe tbody tr th:only-of-type {\n",
       "        vertical-align: middle;\n",
       "    }\n",
       "\n",
       "    .dataframe tbody tr th {\n",
       "        vertical-align: top;\n",
       "    }\n",
       "\n",
       "    .dataframe thead th {\n",
       "        text-align: right;\n",
       "    }\n",
       "</style>\n",
       "<table border=\"1\" class=\"dataframe\">\n",
       "  <thead>\n",
       "    <tr style=\"text-align: right;\">\n",
       "      <th></th>\n",
       "      <th>length</th>\n",
       "      <th>diameter</th>\n",
       "      <th>height</th>\n",
       "      <th>whole_weight</th>\n",
       "      <th>shucked_weight</th>\n",
       "      <th>viscera_weight</th>\n",
       "      <th>shell_weight</th>\n",
       "      <th>rings</th>\n",
       "      <th>F</th>\n",
       "      <th>I</th>\n",
       "      <th>M</th>\n",
       "    </tr>\n",
       "  </thead>\n",
       "  <tbody>\n",
       "    <tr>\n",
       "      <th>0</th>\n",
       "      <td>0.455</td>\n",
       "      <td>0.365</td>\n",
       "      <td>0.095</td>\n",
       "      <td>0.5140</td>\n",
       "      <td>0.2245</td>\n",
       "      <td>0.1010</td>\n",
       "      <td>0.150</td>\n",
       "      <td>15.0</td>\n",
       "      <td>0</td>\n",
       "      <td>0</td>\n",
       "      <td>1</td>\n",
       "    </tr>\n",
       "    <tr>\n",
       "      <th>1</th>\n",
       "      <td>0.350</td>\n",
       "      <td>0.265</td>\n",
       "      <td>0.090</td>\n",
       "      <td>0.2255</td>\n",
       "      <td>0.0995</td>\n",
       "      <td>0.0485</td>\n",
       "      <td>0.070</td>\n",
       "      <td>7.0</td>\n",
       "      <td>0</td>\n",
       "      <td>0</td>\n",
       "      <td>1</td>\n",
       "    </tr>\n",
       "    <tr>\n",
       "      <th>2</th>\n",
       "      <td>0.530</td>\n",
       "      <td>0.420</td>\n",
       "      <td>0.135</td>\n",
       "      <td>0.6770</td>\n",
       "      <td>0.2565</td>\n",
       "      <td>0.1415</td>\n",
       "      <td>0.210</td>\n",
       "      <td>9.0</td>\n",
       "      <td>1</td>\n",
       "      <td>0</td>\n",
       "      <td>0</td>\n",
       "    </tr>\n",
       "    <tr>\n",
       "      <th>3</th>\n",
       "      <td>0.440</td>\n",
       "      <td>0.365</td>\n",
       "      <td>0.125</td>\n",
       "      <td>0.5160</td>\n",
       "      <td>0.2155</td>\n",
       "      <td>0.1140</td>\n",
       "      <td>0.155</td>\n",
       "      <td>10.0</td>\n",
       "      <td>0</td>\n",
       "      <td>0</td>\n",
       "      <td>1</td>\n",
       "    </tr>\n",
       "    <tr>\n",
       "      <th>4</th>\n",
       "      <td>0.330</td>\n",
       "      <td>0.255</td>\n",
       "      <td>0.080</td>\n",
       "      <td>0.2050</td>\n",
       "      <td>0.0895</td>\n",
       "      <td>0.0395</td>\n",
       "      <td>0.055</td>\n",
       "      <td>7.0</td>\n",
       "      <td>0</td>\n",
       "      <td>1</td>\n",
       "      <td>0</td>\n",
       "    </tr>\n",
       "  </tbody>\n",
       "</table>\n",
       "</div>"
      ],
      "text/plain": [
       "   length  diameter  height  whole_weight  shucked_weight  viscera_weight  \\\n",
       "0   0.455     0.365   0.095        0.5140          0.2245          0.1010   \n",
       "1   0.350     0.265   0.090        0.2255          0.0995          0.0485   \n",
       "2   0.530     0.420   0.135        0.6770          0.2565          0.1415   \n",
       "3   0.440     0.365   0.125        0.5160          0.2155          0.1140   \n",
       "4   0.330     0.255   0.080        0.2050          0.0895          0.0395   \n",
       "\n",
       "   shell_weight  rings  F  I  M  \n",
       "0         0.150   15.0  0  0  1  \n",
       "1         0.070    7.0  0  0  1  \n",
       "2         0.210    9.0  1  0  0  \n",
       "3         0.155   10.0  0  0  1  \n",
       "4         0.055    7.0  0  1  0  "
      ]
     },
     "execution_count": 26,
     "metadata": {},
     "output_type": "execute_result"
    }
   ],
   "source": [
    "# got to encode sex column for base dataset using hot-one method as linear regression model only works with quantitative data\n",
    "encoded_sex = pd.get_dummies(df['sex'])\n",
    "df = pd.concat([df, encoded_sex], axis='columns')\n",
    "df = df.drop('sex', axis='columns')\n",
    "\n",
    "df.head()"
   ]
  },
  {
   "cell_type": "code",
   "execution_count": 27,
   "metadata": {},
   "outputs": [],
   "source": [
    "def print_model_stats(y_pred, y):\n",
    "    errors = abs(y_pred - y)\n",
    "    print('Mean Absolute Error:', round(np.mean(errors), 5), 'degrees.')\n",
    "    mape = 100 * (errors / y)\n",
    "    accuracy = 100 - np.mean(mape)\n",
    "    print('Accuracy:', round(accuracy, 5), '%.')\n",
    "    print('Mean absolute error: \\t\\t%f' % mean_absolute_error(y, y_pred))\n",
    "    print('Standard deviation of the error: %f' % (y - y_pred).std())\n",
    "    print('Mean squared error\\t\\t', mean_squared_error(y, y_pred))\n",
    "    print('RMSE\\t\\t\\t\\t', sqrt(mean_squared_error(y, y_pred)))"
   ]
  },
  {
   "cell_type": "markdown",
   "metadata": {},
   "source": [
    "## Baseline"
   ]
  },
  {
   "cell_type": "code",
   "execution_count": 28,
   "metadata": {},
   "outputs": [
    {
     "name": "stdout",
     "output_type": "stream",
     "text": [
      "Mean Absolute Error: 2.08545 degrees.\n",
      "Accuracy: 79.54881 %.\n",
      "Mean absolute error: \t\t2.085454\n",
      "Standard deviation of the error: 3.038787\n",
      "Mean squared error\t\t 9.233797407585215\n",
      "RMSE\t\t\t\t 3.0387164078908735\n",
      "Error mean: -0.04224675948151704\n",
      "Error median: 0.0\n"
     ]
    },
    {
     "data": {
      "image/png": "[encoded data removed]",
      "text/plain": [
       "<matplotlib.figure.Figure at 0xc179e48>"
      ]
     },
     "metadata": {},
     "output_type": "display_data"
    }
   ],
   "source": [
    "X = df.drop('rings', axis='columns')  # X = features\n",
    "y = df['rings']                       # y = prediction target\n",
    "inner_cv = KFold(n_splits=5, shuffle=True, random_state=0)  # K = 5\n",
    "outer_cv = KFold(n_splits=10, shuffle=True, random_state=0)  # 5-fold cross validation\n",
    "\n",
    "regression_tree = DecisionTreeRegressor()\n",
    "regression_tree.fit(X,y)\n",
    "y_pred = cross_val_predict(regression_tree, X, y, cv=outer_cv)\n",
    "cv_scores = cross_val_score(regression_tree, X, y, cv=5) \n",
    "\n",
    "difference=y - y_pred\n",
    "set_graph_size('m')\n",
    "ax = sb.distplot(difference, bins=10, kde=False)\n",
    "ax.set(\n",
    "    title='Distribution of errors for the dummy decision tree regression model',\n",
    "    xlabel='Error Value',\n",
    "    ylabel='Error Count'\n",
    ");\n",
    "\n",
    "\n",
    "save_tree_graph('decison_tree_dummy', True)\n",
    "\n",
    "print_model_stats(y_pred, y)\n",
    "print('Error mean:', np.mean(difference))\n",
    "print('Error median:', np.median(difference))"
   ]
  },
  {
   "cell_type": "markdown",
   "metadata": {},
   "source": [
    "## Searching for the best parameters"
   ]
  },
  {
   "cell_type": "code",
   "execution_count": 29,
   "metadata": {},
   "outputs": [],
   "source": [
    "# from sklearn.metrics import r2_score\n",
    "# from sklearn.metrics import make_scorer\n",
    "# cv=KFold(n_splits=5, shuffle=True, random_state=0)  # K = 5\n",
    "# regression_tree_in_grid = DecisionTreeRegressor()\n",
    "# params = {'max_depth': range(1,20), # for mae criterion max depth range has been decresed to (1, 10) as otherwise the search would have taken very long time to complete\n",
    "#           'min_samples_leaf': range(1,21),\n",
    "#           'min_samples_split':range(2,11),\n",
    "#           'min_weight_fraction_leaf':(0,0.5),\n",
    "#           'criterion': ['mse', 'friedman_mse'] \n",
    "#           # commented out as MAE grid search on its own took about 1 hour to complete. Compounding it with the other parameters \n",
    "#           # would lead to significant amount of time spend on just grid search.\n",
    "#           # Could have implemented RandomSearch, however, wanted the completeness, as well as less randomization of results.\n",
    "#           #'criterion': ['mse', 'mae','friedman_mse'] \n",
    "#          }\n",
    "# scoring_function = make_scorer(r2_score)\n",
    "# grid = GridSearchCV(regression_tree_in_grid, param_grid=params, scoring=scoring_function, cv=cv, verbose=2, n_jobs=-1)\n",
    "# grid = grid.fit(X, y)\n",
    "# grid.best_estimator_"
   ]
  },
  {
   "cell_type": "code",
   "execution_count": 30,
   "metadata": {},
   "outputs": [
    {
     "name": "stdout",
     "output_type": "stream",
     "text": [
      "Best params {'min_weight_fraction_leaf': 0, 'min_samples_split': 2, 'min_samples_leaf': 101, 'max_features': 'auto', 'max_depth': 67, 'criterion': 'mse'}\n"
     ]
    }
   ],
   "source": [
    "# above cell was at attempt at hyper parameter optimization brute force, however, while finding rather consistent results, it failed to \n",
    "# accommodate 'mae' criterion due to the number of combinations to be calculated for each iteration. Instead decided to implement\n",
    "# randomized grid search which may not consistently allow for producing the exact same prediction accuracy. However, since the\n",
    "# difference between the model fitting runs were in the 0.001 range it was deemed acceptable.\n",
    "random_dt_grid = {'max_features': ['auto', 'sqrt'],\n",
    "               'max_depth': [int(x) for x in np.linspace(start = 1, stop = 300, num = 10)],\n",
    "               'min_samples_split':  [int(x) for x in np.linspace(start = 2, stop = 300, num = 10)],\n",
    "               'min_samples_leaf': [int(x) for x in np.linspace(start = 2, stop = 300, num = 10)],\n",
    "               'min_weight_fraction_leaf':(0,0.5),'criterion': ['mse', 'mae', 'friedman_mse']}\n",
    "\n",
    "\n",
    "dtr = DecisionTreeRegressor()\n",
    "dtr_random = RandomizedSearchCV(estimator = dtr, param_distributions = random_dt_grid, n_iter = 100, cv = 3, random_state=42, n_jobs = -1)\n",
    "dtr_random.fit(X, y)\n",
    "\n",
    "print('Best params', dtr_random.best_params_)"
   ]
  },
  {
   "cell_type": "code",
   "execution_count": 31,
   "metadata": {},
   "outputs": [
    {
     "name": "stdout",
     "output_type": "stream",
     "text": [
      "Mean validation score: 0.473 (std: 0.011)\n",
      "Parameters: {'min_weight_fraction_leaf': 0, 'min_samples_split': 2, 'min_samples_leaf': 101, 'max_features': 'auto', 'max_depth': 67, 'criterion': 'mse'}\n",
      "\n",
      "{'min_weight_fraction_leaf': 0, 'min_samples_split': 2, 'min_samples_leaf': 101, 'max_features': 'auto', 'max_depth': 67, 'criterion': 'mse'}\n"
     ]
    }
   ],
   "source": [
    "# The following \"report\" method has been reused, with minute modifications, from sci-kit learn documentation \n",
    "# and examples section available in full at: \n",
    "# https://scikit-learn.org/stable/auto_examples/model_selection/plot_randomized_search.html\n",
    "\n",
    "# Utility function to report best scores\n",
    "def report(results, n_top=1):\n",
    "    for i in range(1, n_top + 1):\n",
    "        candidates = np.flatnonzero(results['rank_test_score'] == i)\n",
    "        for candidate in candidates:\n",
    "            print(\"Mean validation score: {0:.3f} (std: {1:.3f})\".format(\n",
    "                  results['mean_test_score'][candidate],\n",
    "                  results['std_test_score'][candidate]))\n",
    "            print(\"Parameters: {0}\".format(results['params'][candidate]))\n",
    "            print(\"\")\n",
    "            return results['params'][candidate]\n",
    "\n",
    "dtr_random.fit(X,y)\n",
    "best_params = report(dtr_random.cv_results_)\n",
    "print(best_params)"
   ]
  },
  {
   "cell_type": "code",
   "execution_count": 32,
   "metadata": {},
   "outputs": [
    {
     "name": "stdout",
     "output_type": "stream",
     "text": [
      "Mean Absolute Error: 1.62877 degrees.\n",
      "Accuracy: 83.84259 %.\n",
      "Mean absolute error: \t\t1.628770\n",
      "Standard deviation of the error: 2.299605\n",
      "Mean squared error\t\t 5.286958872237341\n",
      "RMSE\t\t\t\t 2.2993387902258644\n",
      "RSS score:\t\t\t 0.5292596309656745\n",
      "\n",
      "Cross validation scores\n",
      " \tMean:\t\t\t 0.3757977678384859 \n",
      "\tStandard deviation:\t 0.12666231348882265\n",
      "\n",
      "Error mean: -0.006845667284783718\n",
      "Error median: -0.3423423423423415\n"
     ]
    },
    {
     "data": {
      "image/png": "[encoded data removed]",
      "text/plain": [
       "<matplotlib.figure.Figure at 0xb68a710>"
      ]
     },
     "metadata": {},
     "output_type": "display_data"
    }
   ],
   "source": [
    "X = df.drop('rings', axis='columns')  # X = features\n",
    "y = df['rings'] \n",
    "regression_tree = dtr_random.best_estimator_  #reusing best tree estimator found by random search\n",
    "\n",
    "\n",
    "regression_tree.fit(X,y)\n",
    "\n",
    "y_pred = cross_val_predict(regression_tree, X, y, cv=outer_cv)\n",
    "cv_scores = cross_val_score(regression_tree, X, y, cv=5) \n",
    "\n",
    "difference3=y - y_pred\n",
    "\n",
    "set_graph_size('m')\n",
    "ax = sb.distplot(difference3, bins=10, kde=False)\n",
    "ax.set(\n",
    "    title='Distribution of errors for the optimized decision tree regression model',\n",
    "    xlabel='Error Value',\n",
    "    ylabel='Error Count'\n",
    ");\n",
    "\n",
    "\n",
    "save_tree_graph('decison_tree_optimized', True)\n",
    "\n",
    "\n",
    "print_model_stats(y_pred, y)\n",
    "tree_rss_score_volume = regression_tree.score(X,y)\n",
    "print('RSS score:\\t\\t\\t', tree_rss_score_volume)\n",
    "print(\"\\nCross validation scores\\n \\tMean:\\t\\t\\t\",np.mean(cv_scores),\"\\n\\tStandard deviation:\\t\", np.std(cv_scores))\n",
    "print('\\nError mean:', np.mean(difference3))\n",
    "print('Error median:', np.median(difference3))"
   ]
  },
  {
   "cell_type": "code",
   "execution_count": 33,
   "metadata": {},
   "outputs": [
    {
     "name": "stdout",
     "output_type": "stream",
     "text": [
      "RSS score:\t\t\t 0.5292596309656745\n",
      "\n",
      "Cross validation scores\n",
      " \tMean:\t\t\t 0.3757977678384859 \n",
      "\tStandard deviation:\t 0.12666231348882265\n"
     ]
    }
   ],
   "source": [
    "tree_rss_score_volume = regression_tree.score(X,y)\n",
    "print('RSS score:\\t\\t\\t', tree_rss_score_volume)\n",
    "print(\"\\nCross validation scores\\n \\tMean:\\t\\t\\t\",np.mean(cv_scores),\"\\n\\tStandard deviation:\\t\", np.std(cv_scores))"
   ]
  },
  {
   "cell_type": "markdown",
   "metadata": {},
   "source": [
    "## Random Forest"
   ]
  },
  {
   "cell_type": "code",
   "execution_count": 35,
   "metadata": {},
   "outputs": [
    {
     "name": "stdout",
     "output_type": "stream",
     "text": [
      "Mean Absolute Error: 1.62115 degrees.\n",
      "Accuracy: 83.87362 %.\n",
      "Mean absolute error: \t\t1.621147\n",
      "Standard deviation of the error: 2.280599\n",
      "Mean squared error\t\t 5.203223715794527\n",
      "RMSE\t\t\t\t 2.281057587128069\n",
      "RSS score:\t\t\t 0.9137176837966485\n",
      "\n",
      "Cross validation scores\n",
      " \tMean:\t\t\t 0.39435240656805876 \n",
      "\tStandard deviation:\t 0.10483762307850573\n",
      "\n",
      "Error mean: -0.05777724435909777\n",
      "Error median: -0.2999999999999998\n"
     ]
    },
    {
     "data": {
      "image/png": "[encoded data removed]",
      "text/plain": [
       "<matplotlib.figure.Figure at 0x29fd128>"
      ]
     },
     "metadata": {},
     "output_type": "display_data"
    }
   ],
   "source": [
    "random_forest = RandomForestRegressor(n_estimators = 10, random_state = 42)\n",
    "random_forest.fit(X, y)\n",
    "\n",
    "\n",
    "y_pred = cross_val_predict(random_forest, X, y, cv=outer_cv)\n",
    "cv_scores = cross_val_score(random_forest, X, y, cv=5) \n",
    "\n",
    "set_graph_size('m')\n",
    "difference_rand_forest=y - y_pred\n",
    "ax = sb.distplot(difference_rand_forest, bins=10, kde=False)\n",
    "ax.set(\n",
    "    title='Distribution of errors for the random forest regression model',\n",
    "    xlabel='Error Value',\n",
    "    ylabel='Error Count'\n",
    ");\n",
    "\n",
    "\n",
    "save_tree_graph('random_forest_unoptimized', True)\n",
    "\n",
    "print_model_stats(y_pred, y)\n",
    "forest_rss_score_volume = random_forest.score(X,y)\n",
    "print('RSS score:\\t\\t\\t', forest_rss_score_volume)\n",
    "print(\"\\nCross validation scores\\n \\tMean:\\t\\t\\t\",np.mean(cv_scores),\"\\n\\tStandard deviation:\\t\", np.std(cv_scores))\n",
    "print('\\nError mean:', np.mean(difference_rand_forest))\n",
    "print('Error median:', np.median(difference_rand_forest))"
   ]
  },
  {
   "cell_type": "code",
   "execution_count": 40,
   "metadata": {},
   "outputs": [
    {
     "name": "stdout",
     "output_type": "stream",
     "text": [
      "Best params {'min_weight_fraction_leaf': 0, 'min_samples_split': 2, 'min_samples_leaf': 35, 'max_features': 'auto', 'max_depth': 200, 'criterion': 'mae'}\n"
     ]
    }
   ],
   "source": [
    "# random_forest_grid = {'max_features': ['auto', 'sqrt'],\n",
    "#                'max_depth': [int(x) for x in np.linspace(start = 1, stop = 300, num = 10)],\n",
    "#                'min_samples_split':  [int(x) for x in np.linspace(start = 2, stop = 300, num = 10)],\n",
    "#                'min_samples_leaf': [int(x) for x in np.linspace(start = 2, stop = 300, num = 10)],\n",
    "#                'min_weight_fraction_leaf':(0,0.5),'criterion': ['mse', 'mae', 'friedman_mse']}\n",
    "\n",
    "\n",
    "# rf = RandomForestRegressor()\n",
    "# rf_random = RandomizedSearchCV(estimator = rf, param_distributions = random_forest_grid, n_iter = 100, cv = 3, random_state=42, n_jobs = -1)\n",
    "# dtr_random.fit(X, y)\n",
    "\n",
    "# rf_random('Best params', rf_random.best_params_)\n",
    "\n",
    "random_forest_grid = {'max_features': ['auto', 'sqrt'],\n",
    "               'max_depth': [int(x) for x in np.linspace(start = 1, stop = 300, num = 10)],\n",
    "               'min_samples_split':  [int(x) for x in np.linspace(start = 2, stop = 300, num = 10)],\n",
    "               'min_samples_leaf': [int(x) for x in np.linspace(start = 2, stop = 300, num = 10)],\n",
    "               'min_weight_fraction_leaf':(0,0.5),'criterion': ['mse', 'mae', 'friedman_mse']}\n",
    "\n",
    "\n",
    "rf = RandomForestRegressor()\n",
    "rf_random = RandomizedSearchCV(estimator = rf, param_distributions = random_forest_grid, n_iter = 100, cv = 3, random_state=42, n_jobs = -1)\n",
    "rf_random.fit(X, y)\n",
    "\n",
    "print('Best params', rf_random.best_params_)"
   ]
  },
  {
   "cell_type": "code",
   "execution_count": 41,
   "metadata": {},
   "outputs": [
    {
     "name": "stdout",
     "output_type": "stream",
     "text": [
      "Mean Absolute Error: 1.51047 degrees.\n",
      "Accuracy: 85.7197 %.\n",
      "Mean absolute error: \t\t1.510466\n",
      "Standard deviation of the error: 2.213303\n",
      "Mean squared error\t\t 5.084859577532406\n",
      "RMSE\t\t\t\t 2.254963320662313\n",
      "RSS score:\t\t\t 0.5302565477667152\n",
      "\n",
      "Cross validation scores\n",
      " \tMean:\t\t\t 0.4501011983736694 \n",
      "\tStandard deviation:\t 0.09197026053673657\n",
      "\n",
      "Error mean: 0.4328132501200216\n",
      "Error median: 0.0\n"
     ]
    },
    {
     "data": {
      "image/png": "[encoded data removed]",
      "text/plain": [
       "<matplotlib.figure.Figure at 0x5c93518>"
      ]
     },
     "metadata": {},
     "output_type": "display_data"
    }
   ],
   "source": [
    "X = df.drop('rings', axis='columns')  # X = features\n",
    "y = df['rings'] \n",
    "random_forest = rf_random.best_estimator_  #reusing best tree estimator found by random search\n",
    "\n",
    "\n",
    "random_forest.fit(X,y)\n",
    "\n",
    "y_pred = cross_val_predict(random_forest, X, y, cv=outer_cv)\n",
    "cv_scores = cross_val_score(random_forest, X, y, cv=5) \n",
    "\n",
    "random_forest_difference=y - y_pred\n",
    "\n",
    "set_graph_size('m')\n",
    "ax = sb.distplot(random_forest_difference, bins=10, kde=False)\n",
    "ax.set(\n",
    "    title='Distribution of errors for the optimized random forest regression model',\n",
    "    xlabel='Error Value',\n",
    "    ylabel='Error Count'\n",
    ");\n",
    "\n",
    "\n",
    "save_tree_graph('random_forest_optimized', True)\n",
    "\n",
    "\n",
    "print_model_stats(y_pred, y)\n",
    "forest_rss_score_volume = random_forest.score(X,y)\n",
    "print('RSS score:\\t\\t\\t', forest_rss_score_volume)\n",
    "print(\"\\nCross validation scores\\n \\tMean:\\t\\t\\t\",np.mean(cv_scores),\"\\n\\tStandard deviation:\\t\", np.std(cv_scores))\n",
    "print('\\nError mean:', np.mean(random_forest_difference))\n",
    "print('Error median:', np.median(random_forest_difference))"
   ]
  },
  {
   "cell_type": "markdown",
   "metadata": {},
   "source": [
    "## Regularized Regression - Ridge"
   ]
  },
  {
   "cell_type": "code",
   "execution_count": 45,
   "metadata": {},
   "outputs": [
    {
     "name": "stdout",
     "output_type": "stream",
     "text": [
      "Coefficient Values: \n",
      " length             1.235871\n",
      "diameter          10.106245\n",
      "height             7.954302\n",
      "whole_weight       9.551859\n",
      "shucked_weight   -21.258392\n",
      "viscera_weight    -9.181109\n",
      "shell_weight       8.267466\n",
      "F                 15.386890\n",
      "I                 14.688967\n",
      "M                 15.505490\n",
      "dtype: float64\n",
      "\n",
      "Model Statistics:\n",
      "Mean Absolute Error: 1.59176 degrees.\n",
      "Accuracy: 84.068 %.\n",
      "Mean absolute error: \t\t1.591763\n",
      "Standard deviation of the error: 2.262561\n",
      "Mean squared error\t\t 5.118553565256619\n",
      "RMSE\t\t\t\t 2.262422057277691\n",
      "Ridge score: 0.508428050425842 [  1.23587114  10.10624528   7.95430216   9.55185892 -21.25839183\n",
      "  -9.1811089    8.26746635  15.38689012  14.6889667   15.50549044]\n"
     ]
    },
    {
     "name": "stderr",
     "output_type": "stream",
     "text": [
      "C:\\ProgramData\\Anaconda3\\lib\\site-packages\\scipy\\linalg\\basic.py:40: RuntimeWarning: scipy.linalg.solve\n",
      "Ill-conditioned matrix detected. Result is not guaranteed to be accurate.\n",
      "Reciprocal condition number/precision: 2.9741027613659274e-17 / 1.1102230246251565e-16\n",
      "  RuntimeWarning)\n"
     ]
    }
   ],
   "source": [
    "# checking if least squares if better suited, where RSS is defined as ridge regression with alpha = 0\n",
    "X = df.drop(['rings'], axis='columns')  # X = features\n",
    "y = df['rings']                       # y = prediction target\n",
    "\n",
    "X_train, X_test, y_train, y_test = train_test_split(X, y, test_size=0.3, random_state=0)\n",
    "\n",
    "ridge4 = Ridge(alpha = 0, normalize = True)\n",
    "ridge4.fit(X_train, y_train)             # Fit a ridge regression on the training data\n",
    "pred4 = ridge4.predict(X_test)           # Use this model to predict the test data\n",
    "print('Coefficient Values: \\n',pd.Series(ridge4.coef_, index = X.columns)) # Print coefficients\n",
    "\n",
    "# print('\\nMSE:',mean_squared_error(y_test, pred4)) # Calculate the test MSE\n",
    "# print('\\nMAE:', mean_absolute_error(y_test, pred4))\n",
    "\n",
    "print('\\nModel Statistics:')\n",
    "print_model_stats(pred4, y_test)\n",
    "print('Ridge score:', ridge4.score(X_test, y_test), ridge4.coef_)\n",
    "mse_least_squares=mean_squared_error(y_test, pred4)\n",
    "mae_least_squares=mean_absolute_error(y_test, pred4)\n",
    "ridge_least_squares=ridge4.score(X_test, y_test), ridge4.coef_"
   ]
  },
  {
   "cell_type": "code",
   "execution_count": 56,
   "metadata": {},
   "outputs": [
    {
     "data": {
      "image/png": "[encoded data removed]",
      "text/plain": [
       "<matplotlib.figure.Figure at 0xc1795f8>"
      ]
     },
     "metadata": {},
     "output_type": "display_data"
    }
   ],
   "source": [
    "alphas = 10**np.linspace(4,-6,100)*0.5\n",
    "ridge = Ridge(normalize = True)\n",
    "coefs = []\n",
    "\n",
    "for a in alphas:\n",
    "    ridge.set_params(alpha = a)\n",
    "    ridge.fit(X, y)\n",
    "    coefs.append(ridge.coef_)\n",
    "    \n",
    "np.shape(coefs)\n",
    "\n",
    "set_graph_size('l')\n",
    "ax = plt.gca()\n",
    "ax.plot(alphas, coefs)\n",
    "ax.set_xscale('log')\n",
    "plt.axis('tight')\n",
    "plt.xlabel('alpha')\n",
    "plt.ylabel('weights')\n",
    "plt.legend(X)\n",
    "save_tree_graph('ridge_coef_change_by_alpha', False)"
   ]
  },
  {
   "cell_type": "code",
   "execution_count": 47,
   "metadata": {},
   "outputs": [
    {
     "data": {
      "text/plain": [
       "0.00019267642968552598"
      ]
     },
     "execution_count": 47,
     "metadata": {},
     "output_type": "execute_result"
    }
   ],
   "source": [
    "# instead of arbitrarily choosing alpha from the graph above, pefrorm CV to check which value is best\n",
    "ridgecv = RidgeCV(alphas = alphas, scoring = 'neg_mean_squared_error', normalize = True)\n",
    "ridgecv.fit(X_train, y_train)\n",
    "ridgecv.alpha_"
   ]
  },
  {
   "cell_type": "code",
   "execution_count": 48,
   "metadata": {},
   "outputs": [
    {
     "name": "stdout",
     "output_type": "stream",
     "text": [
      "length             1.128776\n",
      "diameter           9.784179\n",
      "height             9.886104\n",
      "whole_weight       9.785833\n",
      "shucked_weight   -21.139601\n",
      "viscera_weight   -10.317330\n",
      "shell_weight       7.558336\n",
      "F                  0.241269\n",
      "I                 -0.551122\n",
      "M                  0.291682\n",
      "dtype: float64\n",
      "Mean Absolute Error: 1.56496 degrees.\n",
      "Accuracy: 84.40793 %.\n",
      "Mean absolute error: \t\t1.564961\n",
      "Standard deviation of the error: 2.195113\n",
      "Mean squared error\t\t 4.821239560539944\n",
      "RMSE\t\t\t\t 2.195732124039712\n",
      "Ridge score: 0.5145318465473905 [ -0.21104542  11.04284906  10.76344202   9.6873144  -20.80009405\n",
      " -10.97891904   7.94008754   0.24596686  -0.57634358   0.31304007]\n"
     ]
    }
   ],
   "source": [
    "# ridge regression using the alpha calculated by cross validated ridge regression\n",
    "X_train, X_test , y_train, y_test = train_test_split(X, y, test_size=0.3, random_state=1)\n",
    "ridge2 = Ridge(alpha = ridgecv.alpha_, normalize = True)\n",
    "ridge2.fit(X_train, y_train)             # Fit a ridge regression on the training data\n",
    "pred2 = ridge2.predict(X_test)           # Use this model to predict the test data\n",
    "print(pd.Series(ridge2.coef_, index = X.columns)) # Print coefficients\n",
    "# print('\\nMSE:',mean_squared_error(y_test, pred2))          # Calculate the test MSE\n",
    "# print('\\nMAE:', mean_absolute_error(y_test, pred2))\n",
    "print_model_stats(pred2, y_test)\n",
    "print('Ridge score:', ridge.score(X_test, y_test), ridge.coef_)\n",
    "mse_alpha_005=mean_squared_error(y_test, pred2)\n",
    "mae_alpha_005=mean_absolute_error(y_test, pred2)\n",
    "ridge_alpha_005=ridge.score(X_test, y_test), ridge.coef_"
   ]
  },
  {
   "cell_type": "code",
   "execution_count": 51,
   "metadata": {},
   "outputs": [
    {
     "data": {
      "image/png": "[encoded data removed]",
      "text/plain": [
       "<matplotlib.figure.Figure at 0xd506ef0>"
      ]
     },
     "metadata": {},
     "output_type": "display_data"
    }
   ],
   "source": [
    "# plot a graph of the coefficients\n",
    "set_graph_size('m')\n",
    "_ = plt.plot(range(X.columns.shape[0]), ridge2.coef_)\n",
    "_ = plt.xticks(range(X.columns.shape[0]), df, rotation=60)\n",
    "_ = plt.ylabel('Coefficients')\n",
    "_ = plt.xlabel('Features')\n",
    "_ = plt.legend(['Change of coefficient value per feature'])\n",
    "save_graph('ridge_coefficients_plot')"
   ]
  },
  {
   "cell_type": "code",
   "execution_count": 52,
   "metadata": {},
   "outputs": [
    {
     "name": "stdout",
     "output_type": "stream",
     "text": [
      "Is MSE for least squares smaller than MSE with alpha 0.005? False\n",
      "Difference between least squares MSE and alpha 0.005 MSE: 0.29731400471667513\n",
      "\n",
      "Is MAE for least squares smaller than MAE with alpha 0.005? False\n",
      "Difference between least squares MAE and alpha 0.005 MAE: 0.02680167324010685\n",
      "\n",
      "Is ridge score for RSS smaller than fitted ridge: True\n",
      "Difference between RSS score and fitted ridge score: -0.006103796121548433\n"
     ]
    }
   ],
   "source": [
    "print('Is MSE for least squares smaller than MSE with alpha 0.005?', mse_least_squares < mse_alpha_005)\n",
    "print('Difference between least squares MSE and alpha 0.005 MSE:', mse_least_squares-mse_alpha_005)\n",
    "print('\\nIs MAE for least squares smaller than MAE with alpha 0.005?', mae_least_squares < mae_alpha_005)\n",
    "print('Difference between least squares MAE and alpha 0.005 MAE:', mae_least_squares-mae_alpha_005)\n",
    "print('\\nIs ridge score for RSS smaller than fitted ridge:', ridge_least_squares[0]<ridge_alpha_005[0])\n",
    "print('Difference between RSS score and fitted ridge score:', ridge_least_squares[0]-ridge_alpha_005[0])"
   ]
  },
  {
   "cell_type": "markdown",
   "metadata": {},
   "source": [
    "Using cross validated Ridge Regression function to identify the best alpha parameter for conducting ridge regression to obtain mean as well as from comparing mean squared error and mean absolute error results, while using MSE and MAE of least squares calculation as a baseline, we can deduce that ridge regression indeed improved our prediction score and that the parameters for the calculation have been tuned.\n",
    "\n",
    "The best score to get out of a prediction, or regression, model is 0 as it would mean that the predicted and actual data matched up. The above graph we can observer that majority of the data is centered around 0, however at the same time significant portion of the dataset is significantly away from the 0 error value. \n",
    "Mean absolute error score is at almost 2 which means that the dummy model leaves room for improvement."
   ]
  }
 ],
 "metadata": {
  "kernelspec": {
   "display_name": "Python 3",
   "language": "python",
   "name": "python3"
  },
  "language_info": {
   "codemirror_mode": {
    "name": "ipython",
    "version": 3
   },
   "file_extension": ".py",
   "mimetype": "text/x-python",
   "name": "python",
   "nbconvert_exporter": "python",
   "pygments_lexer": "ipython3",
   "version": "3.6.4"
  }
 },
 "nbformat": 4,
 "nbformat_minor": 2
}
